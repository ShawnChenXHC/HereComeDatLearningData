{
 "cells": [
  {
   "cell_type": "code",
   "execution_count": null,
   "metadata": {},
   "outputs": [],
   "source": [
    "import pandas\n",
    "raw_data = pandas.read_csv('all_enrolments.csv')\n",
    "raw_data.head()"
   ]
  },
  {
   "cell_type": "code",
   "execution_count": null,
   "metadata": {},
   "outputs": [],
   "source": [
    "raw_data = raw_data[raw_data['code_module'] == 'BBB']\n",
    "raw_data = raw_data[raw_data['code_presentation'] == '2014J']\n",
    "\n",
    "data = pandas.DataFrame()\n",
    "data['label'] = raw_data['final_result'].apply(lambda x: 1 if x == 'Pass' or x == 'Distinction' else 0)\n",
    "\n",
    "features = ['gender', 'highest_education', 'imd_band', 'age_band', 'disability']\n",
    "for feature in features:\n",
    "    data = pandas.concat([data, pandas.get_dummies(raw_data[feature], prefix=feature)], axis=1)\n",
    "data.info()"
   ]
  },
  {
   "cell_type": "code",
   "execution_count": null,
   "metadata": {},
   "outputs": [],
   "source": [
    "from sklearn.model_selection import train_test_split, cross_val_score\n",
    "from sklearn.linear_model import SGDClassifier\n",
    "X = data.drop('label', axis=1)\n",
    "y = data['label']\n",
    "X_train, X_test, y_train, y_test = train_test_split(X, y, test_size=0.3)\n",
    "\n",
    "clf = SGDClassifier(loss=\"hinge\", penalty=\"l2\", max_iter=100)\n",
    "clf.fit(X_train, y_train)\n",
    "print(clf.score(X_test, y_test))"
   ]
  },
  {
   "cell_type": "code",
   "execution_count": null,
   "metadata": {},
   "outputs": [],
   "source": [
    "import pickle\n",
    "with open('model.pkl', 'wb') as f:\n",
    "    pickle.dump(clf, f, 4)\n",
    "\n",
    "dummy_map = dict(zip(X.columns, range(X.shape[1])))\n",
    "with open('map.pkl', 'wb') as f:\n",
    "    pickle.dump(dummy_map, f, 4)\n",
    "print(dummy_map)"
   ]
  },
  {
   "cell_type": "code",
   "execution_count": null,
   "metadata": {},
   "outputs": [],
   "source": [
    "with open('model.pkl', 'rb') as f:\n",
    "    clf = pickle.load(f)\n",
    "with open('map.pkl', 'rb') as f:\n",
    "    dummy_map = pickle.load(f)\n",
    "\n",
    "X = [0] * len(dummy_map)\n",
    "X[dummy_map['gender_M']] = 1\n",
    "X[dummy_map['highest_education_A Level or Equivalent']] = 1\n",
    "X[dummy_map['imd_band_0-10%']] = 1\n",
    "X[dummy_map['age_band_0-35']] = 1\n",
    "X[dummy_map['disability_N']] = 1\n",
    "print(clf.predict([X]))\n",
    "\n",
    "X[dummy_map['highest_education_A Level or Equivalent']] = 0\n",
    "X[dummy_map['highest_education_Lower Than A Level']] = 1\n",
    "print(clf.predict([X]))\n",
    "\n",
    "X[dummy_map['imd_band_0-10%']] = 0\n",
    "X[dummy_map['imd_band_90-100%']] = 1\n",
    "print(clf.predict([X]))\n",
    "\n",
    "X[dummy_map['disability_N']] = 0\n",
    "X[dummy_map['disability_Y']] = 1\n",
    "print(clf.predict([X]))"
   ]
  },
  {
   "cell_type": "code",
   "execution_count": null,
   "metadata": {},
   "outputs": [],
   "source": []
  }
 ],
 "metadata": {
  "kernelspec": {
   "display_name": "Python 3",
   "language": "python",
   "name": "python3"
  },
  "language_info": {
   "codemirror_mode": {
    "name": "ipython",
    "version": 3
   },
   "file_extension": ".py",
   "mimetype": "text/x-python",
   "name": "python",
   "nbconvert_exporter": "python",
   "pygments_lexer": "ipython3",
   "version": "3.6.4+"
  }
 },
 "nbformat": 4,
 "nbformat_minor": 2
}
