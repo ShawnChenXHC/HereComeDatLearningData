{
 "cells": [
  {
   "cell_type": "code",
   "execution_count": null,
   "metadata": {},
   "outputs": [],
   "source": [
    "import pandas\n",
    "data = pandas.read_csv('all_enrolments.csv')\n",
    "all_features = {'code_module', 'code_presentation', 'id_student', 'date_registration', 'date_unregistration', 'gender', 'region', 'highest_education', 'imd_band', 'age_band', 'num_of_prev_attempts', 'studied_credits', 'disability', 'final_result', 'total_activity', 'days_active', 'last_active_date', 'distinct_content_items_accessed', 'final_assessment_score', 'final_exam_score'}\n",
    "\n",
    "all_features.remove('final_result')\n",
    "data['final_result'] = data['final_result'].apply(lambda x: 1 if x == 'Pass' else 0)\n",
    "\n",
    "features = {'code_module', 'code_presentation', 'gender', 'region', 'highest_education', 'imd_band', 'age_band', 'disability'}\n",
    "for feature in features:\n",
    "    data = pandas.concat([data, pandas.get_dummies(data[feature], prefix=feature)], axis=1)\n",
    "for feature in all_features:\n",
    "    data.drop(feature, axis=1, inplace=True)"
   ]
  },
  {
   "cell_type": "code",
   "execution_count": null,
   "metadata": {},
   "outputs": [],
   "source": [
    "from sklearn.model_selection import train_test_split, cross_val_score\n",
    "from sklearn.linear_model import SGDClassifier\n",
    "X = data.drop('final_result', axis=1)\n",
    "y = data['final_result']\n",
    "X_train, X_test, y_train, y_test = train_test_split(X, y, test_size=0.2)\n",
    "\n",
    "clf = SGDClassifier(loss=\"hinge\", penalty=\"l2\", tol=1e-3)\n",
    "clf.fit(X_train, y_train)\n",
    "clf.score(X_test, y_test)"
   ]
  }
 ],
 "metadata": {
  "kernelspec": {
   "display_name": "Python 3",
   "language": "python",
   "name": "python3"
  },
  "language_info": {
   "codemirror_mode": {
    "name": "ipython",
    "version": 3
   },
   "file_extension": ".py",
   "mimetype": "text/x-python",
   "name": "python",
   "nbconvert_exporter": "python",
   "pygments_lexer": "ipython3",
   "version": "3.6.4+"
  }
 },
 "nbformat": 4,
 "nbformat_minor": 2
}
